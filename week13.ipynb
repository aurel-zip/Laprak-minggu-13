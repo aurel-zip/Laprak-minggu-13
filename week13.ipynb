{
  "nbformat": 4,
  "nbformat_minor": 0,
  "metadata": {
    "colab": {
      "provenance": []
    },
    "kernelspec": {
      "name": "python3",
      "display_name": "Python 3"
    },
    "language_info": {
      "name": "python"
    }
  },
  "cells": [
    {
      "cell_type": "code",
      "execution_count": null,
      "metadata": {
        "id": "NkYCxZ33Qher",
        "colab": {
          "base_uri": "https://localhost:8080/"
        },
        "outputId": "f802e1be-6914-47e3-e694-e08a3e28ff9d"
      },
      "outputs": [
        {
          "output_type": "stream",
          "name": "stdout",
          "text": [
            "TOTAL HARGA:\n",
            "\n",
            "Bolpoin:\n",
            "Nama: Bolpoin\n",
            "Stok: 10\n",
            "Harga Satuan: Rp. 2000\n",
            "Harga Total: Rp. 20000\n",
            "\n",
            "Pensil:\n",
            "Nama: Pensil\n",
            "Stok: 10\n",
            "Harga Satuan: Rp. 1000\n",
            "Harga Total: Rp. 10000\n",
            "\n",
            "Penghapus:\n",
            "Nama: Penghapus\n",
            "Stok: 10\n",
            "Harga Satuan: Rp. 500\n",
            "Harga Total: Rp. 5000\n",
            "\n",
            "Total Harga Setelah Transaksi: Rp.  35000\n"
          ]
        }
      ],
      "source": [
        "class AlatTulis:\n",
        "  def __init__(self, nama, stok, harga_satuan):\n",
        "    self.nama = nama\n",
        "    self.stok = stok\n",
        "    self.harga_satuan = harga_satuan\n",
        "    self.harga = self.stok * self.harga_satuan\n",
        "\n",
        "  def get_info(self):\n",
        "    return f\"Nama: {self.nama}\\nStok: {self.stok}\\nHarga Satuan: Rp. {self.harga_satuan}\\nHarga Total: Rp. {self.harga}\"\n",
        "\n",
        "  def get_harga(self):\n",
        "    return self.harga\n",
        "\n",
        "bolpoin = AlatTulis(\"Bolpoin\", 10, 2000)\n",
        "pensil = AlatTulis(\"Pensil\", 10, 1000)\n",
        "penghapus = AlatTulis(\"Penghapus\", 10, 500)\n",
        "\n",
        "print(\"TOTAL HARGA:\")\n",
        "print(\"\\nBolpoin:\")\n",
        "print(bolpoin.get_info())\n",
        "print(\"\\nPensil:\")\n",
        "print(pensil.get_info())\n",
        "print(\"\\nPenghapus:\")\n",
        "print(penghapus.get_info())\n",
        "\n",
        "total_harga = bolpoin.get_harga() + pensil.get_harga() + penghapus.get_harga()\n",
        "\n",
        "print(\"\\nTotal Harga Setelah Transaksi: Rp. \", total_harga)"
      ]
    }
  ]
}